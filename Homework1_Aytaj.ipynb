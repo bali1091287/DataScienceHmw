{
  "nbformat": 4,
  "nbformat_minor": 0,
  "metadata": {
    "colab": {
      "name": "Homework1.Aytaj",
      "provenance": [],
      "collapsed_sections": [],
      "include_colab_link": true
    },
    "kernelspec": {
      "name": "python3",
      "display_name": "Python 3"
    },
    "language_info": {
      "name": "python"
    }
  },
  "cells": [
    {
      "cell_type": "markdown",
      "metadata": {
        "id": "view-in-github",
        "colab_type": "text"
      },
      "source": [
        "<a href=\"https://colab.research.google.com/github/bali1091287/DataScienceHmw/blob/main/Homework1_Aytaj.ipynb\" target=\"_parent\"><img src=\"https://colab.research.google.com/assets/colab-badge.svg\" alt=\"Open In Colab\"/></a>"
      ]
    },
    {
      "cell_type": "code",
      "execution_count": null,
      "metadata": {
        "id": "jrVeHsm1rpdT",
        "colab": {
          "base_uri": "https://localhost:8080/"
        },
        "outputId": "9e5fde11-2225-4662-8b34-cc2eefadf4f4"
      },
      "outputs": [
        {
          "output_type": "stream",
          "name": "stdout",
          "text": [
            "What is your name? Aytaj\n",
            "What is your age? 20\n",
            "Your name is Aytaj. Your age is 20.\n"
          ]
        }
      ],
      "source": [
        "#Q1-Get your name and age as input and print it in the form like\n",
        "#Your name is Hulisi. Your age is 43\n",
        "name=input('What is your name? ')\n",
        "age=input('What is your age? ')\n",
        "print('Your name is '+ name + \".\",\"Your age is \"+age+'.')"
      ]
    },
    {
      "cell_type": "code",
      "source": [
        "#Q2-Write a if statement for a given two number is equal or not\n",
        "a=43\n",
        "b=54\n",
        "\n",
        "if a==b:\n",
        "  print('They are equal')\n",
        "else:\n",
        "  print(\"They are not equal\")"
      ],
      "metadata": {
        "id": "7Sfg03_PuVWa",
        "colab": {
          "base_uri": "https://localhost:8080/"
        },
        "outputId": "6c812e68-2946-47b3-f11f-a65de6845952"
      },
      "execution_count": null,
      "outputs": [
        {
          "output_type": "stream",
          "name": "stdout",
          "text": [
            "They are not equal\n"
          ]
        }
      ]
    },
    {
      "cell_type": "code",
      "source": [
        "#Q3-Write a if statement for first number is greater (a), equal or less than second number.(b)\n",
        "a=43\n",
        "b=54\n",
        "\n",
        "if a>b:\n",
        "  print(\"a is greater than b\")\n",
        "elif a<b:\n",
        "  print(\"a is less than b\")\n",
        "else:\n",
        "  print(\"They are equal\")"
      ],
      "metadata": {
        "id": "NtUibZ07u5gs",
        "colab": {
          "base_uri": "https://localhost:8080/"
        },
        "outputId": "2e79944e-4308-4a08-d2f2-fb9076d6a51d"
      },
      "execution_count": null,
      "outputs": [
        {
          "output_type": "stream",
          "name": "stdout",
          "text": [
            "a is less than b\n"
          ]
        }
      ]
    },
    {
      "cell_type": "code",
      "source": [
        "#Q4- Using for loop, print 1,2,3,4,5\n",
        "for k in range(1,6):\n",
        "  print(k)\n"
      ],
      "metadata": {
        "id": "U1UMQv36wNHP",
        "colab": {
          "base_uri": "https://localhost:8080/"
        },
        "outputId": "6e9fa284-ab44-44e0-ec23-c876a69dda0b"
      },
      "execution_count": null,
      "outputs": [
        {
          "output_type": "stream",
          "name": "stdout",
          "text": [
            "1\n",
            "2\n",
            "3\n",
            "4\n",
            "5\n"
          ]
        }
      ]
    },
    {
      "cell_type": "code",
      "source": [
        "#Q5-Using while loop, print 5,4,3,2,1\n",
        "i=5\n",
        "while 0<i<6:\n",
        "  print(i)\n",
        "  i-=1"
      ],
      "metadata": {
        "id": "bh5Lga7XxGY8",
        "colab": {
          "base_uri": "https://localhost:8080/"
        },
        "outputId": "e8465ddb-1e5b-4f63-e3b3-ee1e960146a6"
      },
      "execution_count": null,
      "outputs": [
        {
          "output_type": "stream",
          "name": "stdout",
          "text": [
            "5\n",
            "4\n",
            "3\n",
            "2\n",
            "1\n"
          ]
        }
      ]
    },
    {
      "cell_type": "code",
      "source": [
        "#Q6- Using for loop, print 10,6,4,2,0\n",
        "#Hint Print if number is not equal to 8.\n",
        "for i in range(10,-1,-2):\n",
        "  if i==8:\n",
        "    pass\n",
        "  else:\n",
        "    print(i)"
      ],
      "metadata": {
        "id": "cXTTDS49xSoi",
        "colab": {
          "base_uri": "https://localhost:8080/"
        },
        "outputId": "b130b931-2869-476d-f01d-2e5ffb448292"
      },
      "execution_count": null,
      "outputs": [
        {
          "output_type": "stream",
          "name": "stdout",
          "text": [
            "10\n",
            "6\n",
            "4\n",
            "2\n",
            "0\n"
          ]
        }
      ]
    },
    {
      "cell_type": "code",
      "source": [
        "#Q7-Write a method to calculate age for a given date of birth year.\n",
        "#Use this method in order to calculate age of person if date of birth is 1944\n",
        "# if age is the name of function, print(age(1944))\n",
        "birth_year = int(input(\"Please tell your birth year: \"))\n",
        "age= 2022-birth_year\n",
        "print(age)\n"
      ],
      "metadata": {
        "id": "geUjb-vuyYbF",
        "colab": {
          "base_uri": "https://localhost:8080/"
        },
        "outputId": "9654cccf-f7e1-47b6-f09b-3400e101185a"
      },
      "execution_count": null,
      "outputs": [
        {
          "output_type": "stream",
          "name": "stdout",
          "text": [
            "Please tell your birth year: 2009\n",
            "13\n"
          ]
        }
      ]
    },
    {
      "cell_type": "code",
      "source": [
        "\"\"\"Q8-Write a class named arithmetic with method \n",
        "for calculating addition, substraction, \n",
        "multiplication and division of two numbers.\"\"\"\n",
        "\n",
        "class arithmetic:\n",
        "  import math\n",
        "\n",
        "  def addition(a,b):\n",
        "    return a+b\n",
        "\n",
        "  def substraction(a,b):\n",
        "    return a-b\n",
        "  \n",
        "  def multiplication(a,b):\n",
        "    return a*b\n",
        "  \n",
        "  def division(a,b):\n",
        "    return a/b\n",
        "  \n",
        "print(arithmetic.addition(15,10))\n",
        "print(arithmetic.substraction(15,10))\n",
        "print(arithmetic.multiplication(15,10))\n",
        "print(arithmetic.division(15,10))\n"
      ],
      "metadata": {
        "id": "YcyFzE3fzC7_",
        "colab": {
          "base_uri": "https://localhost:8080/"
        },
        "outputId": "fe7522d4-fa9a-4e53-c64a-87ccb13b8e2b"
      },
      "execution_count": null,
      "outputs": [
        {
          "output_type": "stream",
          "name": "stdout",
          "text": [
            "25\n",
            "5\n",
            "150\n",
            "1.5\n"
          ]
        }
      ]
    },
    {
      "cell_type": "code",
      "source": [
        "\"\"\"Q9- write a for loop or method  to calculate\n",
        "summation of first n numbers\n",
        "#i.e if n=3, it will print or return 6 (1+2+3)\"\"\"\n",
        "n=int(input(\"Enter a random number: \"))\n",
        "sum=0\n",
        "for i in range(1,n+1,1):\n",
        "  sum=sum+i\n",
        "  \n",
        "print(sum)\n"
      ],
      "metadata": {
        "id": "AUJWr5YqzadI",
        "colab": {
          "base_uri": "https://localhost:8080/"
        },
        "outputId": "324ce6a3-4556-4120-8593-acceb9a86433"
      },
      "execution_count": 49,
      "outputs": [
        {
          "output_type": "stream",
          "name": "stdout",
          "text": [
            "Enter a random number: 6\n",
            "21\n"
          ]
        }
      ]
    },
    {
      "cell_type": "code",
      "source": [
        "\"\"\"Q10-Generate 10 numbers between 0 and 1 and add into list.\n",
        " Print first three elements of that list.\"\"\"\n",
        "import numpy as np\n",
        "\n",
        "ls=[]\n",
        " \n",
        "for k in range(0,10):\n",
        "  ls.append(np.random.rand()*1)\n",
        "\n",
        "ls[0:3]"
      ],
      "metadata": {
        "id": "hmtvJdCL02qx",
        "colab": {
          "base_uri": "https://localhost:8080/"
        },
        "outputId": "6bc6e441-e323-4305-c5b5-f2c0e9f1fa06"
      },
      "execution_count": 60,
      "outputs": [
        {
          "output_type": "execute_result",
          "data": {
            "text/plain": [
              "[0.5607267047319867, 0.7610841294986237, 0.4327469397699377]"
            ]
          },
          "metadata": {},
          "execution_count": 60
        }
      ]
    },
    {
      "cell_type": "code",
      "source": [
        "\"\"\"Q11-For a given number n, print numbers divisible\n",
        " by 3 up to that number(n included)\n",
        "#Example: if n=15, print 3,6,9,12,15\n",
        "#Hint you can use modulus statement (if (i%3==0))\n",
        "n=15\"\"\"\n",
        "\n",
        "n=int(input(\"Enter a number: \"))\n",
        "\n",
        "for i in range(1,n+1):\n",
        "  if i%3==0:\n",
        "    print(i)\n",
        "\n"
      ],
      "metadata": {
        "id": "5O6Y2CujcAAs",
        "outputId": "025cf0ba-ab63-44d9-ff80-c7eac1d0fc6f",
        "colab": {
          "base_uri": "https://localhost:8080/"
        }
      },
      "execution_count": 63,
      "outputs": [
        {
          "output_type": "stream",
          "name": "stdout",
          "text": [
            "Enter a number: 15\n",
            "3\n",
            "6\n",
            "9\n",
            "12\n",
            "15\n"
          ]
        }
      ]
    }
  ]
}